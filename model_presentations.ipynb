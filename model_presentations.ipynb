{
 "cells": [
  {
   "cell_type": "code",
   "execution_count": 8,
   "id": "cc132d91",
   "metadata": {},
   "outputs": [],
   "source": [
    "import gym\n",
    "from gym.wrappers import Monitor\n",
    "from stable_baselines3 import A2C, PPO, DQN, DDPG\n",
    "from stable_baselines3.common.vec_env import VecFrameStack, DummyVecEnv\n",
    "from stable_baselines3.common.evaluation import evaluate_policy\n",
    "from stable_baselines3.common.env_util import make_atari_env\n",
    "import os"
   ]
  },
  {
   "cell_type": "code",
   "execution_count": 9,
   "id": "f6863dce",
   "metadata": {},
   "outputs": [],
   "source": [
    "!python -m atari_py.import_roms .\\Roms\\ROMS"
   ]
  },
  {
   "cell_type": "markdown",
   "id": "51e3c67b",
   "metadata": {},
   "source": [
    "# Cartpole"
   ]
  },
  {
   "cell_type": "code",
   "execution_count": 10,
   "id": "5d72e30f",
   "metadata": {},
   "outputs": [],
   "source": [
    "env_name = 'CartPole-v0'\n",
    "env = gym.make(env_name)"
   ]
  },
  {
   "cell_type": "code",
   "execution_count": 11,
   "id": "8cc139cc",
   "metadata": {},
   "outputs": [],
   "source": [
    "cartpole = PPO.load('./Training/Saved Models/ppo_cartpole', env = env)"
   ]
  },
  {
   "cell_type": "code",
   "execution_count": 12,
   "id": "2aec3fd0",
   "metadata": {},
   "outputs": [
    {
     "name": "stdout",
     "output_type": "stream",
     "text": [
      "Episode:1 Score:200.0\n",
      "Episode:2 Score:200.0\n",
      "Episode:3 Score:200.0\n",
      "Episode:4 Score:200.0\n",
      "Episode:5 Score:200.0\n",
      "Episode:6 Score:200.0\n",
      "Episode:7 Score:200.0\n",
      "Episode:8 Score:200.0\n",
      "Episode:9 Score:200.0\n",
      "Episode:10 Score:200.0\n"
     ]
    }
   ],
   "source": [
    "episodes = 10\n",
    "for episode in range(1, episodes+1):\n",
    "    obs = env.reset()\n",
    "    done = False\n",
    "    score = 0 \n",
    "    \n",
    "    while not done:\n",
    "        env.render()\n",
    "        action, _ = cartpole.predict(obs)\n",
    "        obs, reward, done, info = env.step(action)\n",
    "        score+=reward\n",
    "    print('Episode:{} Score:{}'.format(episode, score))\n",
    "env.close()"
   ]
  },
  {
   "cell_type": "code",
   "execution_count": 12,
   "id": "71322c47",
   "metadata": {},
   "outputs": [],
   "source": [
    "env.close()"
   ]
  },
  {
   "cell_type": "markdown",
   "id": "8cc0a3fc",
   "metadata": {},
   "source": [
    "# Pendulum"
   ]
  },
  {
   "cell_type": "code",
   "execution_count": 13,
   "id": "ecb808c0",
   "metadata": {},
   "outputs": [],
   "source": [
    "env_name = 'Pendulum-v0'\n",
    "env = gym.make(env_name)"
   ]
  },
  {
   "cell_type": "code",
   "execution_count": 14,
   "id": "8ecb4dce",
   "metadata": {},
   "outputs": [],
   "source": [
    "pendulum = DDPG.load('./Training/Saved Models/ddpg_pendulum500k', env = env)"
   ]
  },
  {
   "cell_type": "code",
   "execution_count": 15,
   "id": "cf250db9",
   "metadata": {},
   "outputs": [],
   "source": [
    "env.close()"
   ]
  },
  {
   "cell_type": "code",
   "execution_count": 17,
   "id": "63a1e6a1",
   "metadata": {
    "scrolled": true
   },
   "outputs": [
    {
     "name": "stdout",
     "output_type": "stream",
     "text": [
      "Episode:1 Score:-122.60450684357922\n",
      "Episode:2 Score:-119.8476825488763\n",
      "Episode:3 Score:-228.0823483365638\n",
      "Episode:4 Score:-119.05780847059735\n",
      "Episode:5 Score:-125.21328083180082\n",
      "Episode:6 Score:-225.30105851550263\n",
      "Episode:7 Score:-235.1252615725433\n",
      "Episode:8 Score:-126.22938297358381\n",
      "Episode:9 Score:-127.08378075430355\n",
      "Episode:10 Score:-134.42548577648523\n"
     ]
    }
   ],
   "source": [
    "episodes = 10\n",
    "for episode in range(1, episodes+1):\n",
    "    obs = env.reset()\n",
    "    done = False\n",
    "    score = 0 \n",
    "    \n",
    "    while not done:\n",
    "        env.render()\n",
    "        action, _ = pendulum.predict(obs)\n",
    "        obs, reward, done, info = env.step(action)\n",
    "        score+=reward\n",
    "    print('Episode:{} Score:{}'.format(episode, score))\n",
    "env.close()"
   ]
  },
  {
   "cell_type": "code",
   "execution_count": 14,
   "id": "e13f2603",
   "metadata": {},
   "outputs": [],
   "source": [
    "env.close()"
   ]
  },
  {
   "cell_type": "markdown",
   "id": "764af0f5",
   "metadata": {},
   "source": [
    "# Breakout"
   ]
  },
  {
   "cell_type": "code",
   "execution_count": 18,
   "id": "001ff81d",
   "metadata": {},
   "outputs": [],
   "source": [
    "env = make_atari_env('Breakout-v0', n_envs = 4, seed = 0)\n",
    "env = VecFrameStack(env, n_stack = 4)"
   ]
  },
  {
   "cell_type": "code",
   "execution_count": 19,
   "id": "0f9e813c",
   "metadata": {
    "scrolled": true
   },
   "outputs": [],
   "source": [
    "breakout = A2C.load('./Training/Saved Models/a2c_breakout1mil', env = env)"
   ]
  },
  {
   "cell_type": "code",
   "execution_count": 22,
   "id": "b606d996",
   "metadata": {
    "scrolled": true
   },
   "outputs": [
    {
     "name": "stdout",
     "output_type": "stream",
     "text": [
      "Episode:1 Score:[3.]\n",
      "Episode:2 Score:[0.]\n",
      "Episode:3 Score:[4.]\n",
      "Episode:4 Score:[4.]\n",
      "Episode:5 Score:[1.]\n",
      "Episode:6 Score:[4.]\n",
      "Episode:7 Score:[0.]\n",
      "Episode:8 Score:[0.]\n",
      "Episode:9 Score:[0.]\n",
      "Episode:10 Score:[6.]\n",
      "Episode:11 Score:[0.]\n",
      "Episode:12 Score:[2.]\n",
      "Episode:13 Score:[8.]\n",
      "Episode:14 Score:[2.]\n",
      "Episode:15 Score:[0.]\n",
      "Episode:16 Score:[0.]\n",
      "Episode:17 Score:[0.]\n",
      "Episode:18 Score:[0.]\n",
      "Episode:19 Score:[5.]\n",
      "Episode:20 Score:[0.]\n"
     ]
    }
   ],
   "source": [
    "env = make_atari_env('Breakout-v0', n_envs = 1, seed = 0)\n",
    "env = VecFrameStack(env, n_stack = 4)\n",
    "\n",
    "episodes = 20\n",
    "for episode in range(1, episodes+1):\n",
    "    obs = env.reset()\n",
    "    done = False\n",
    "    score = 0 \n",
    "    \n",
    "    while not done:\n",
    "        env.render()\n",
    "        action, _ = breakout.predict(obs)\n",
    "        obs, reward, done, info = env.step(action)\n",
    "        score+=reward\n",
    "    print('Episode:{} Score:{}'.format(episode, score))\n",
    "env.close()"
   ]
  },
  {
   "cell_type": "code",
   "execution_count": 21,
   "id": "a6cbf3e8",
   "metadata": {},
   "outputs": [],
   "source": [
    "env.close()"
   ]
  },
  {
   "cell_type": "markdown",
   "id": "86af75b9",
   "metadata": {},
   "source": [
    "# Car Racing"
   ]
  },
  {
   "cell_type": "code",
   "execution_count": 23,
   "id": "0773da56",
   "metadata": {},
   "outputs": [],
   "source": [
    "env_name = 'CarRacing-v0'\n",
    "env = gym.make(env_name)\n",
    "env = DummyVecEnv([lambda: env])"
   ]
  },
  {
   "cell_type": "code",
   "execution_count": 24,
   "id": "01ad7d9c",
   "metadata": {},
   "outputs": [],
   "source": [
    "car = PPO.load('./Training/Saved Models/ppo_car_500k', env = env)"
   ]
  },
  {
   "cell_type": "code",
   "execution_count": 33,
   "id": "abac8272",
   "metadata": {},
   "outputs": [],
   "source": [
    "env.close()"
   ]
  },
  {
   "cell_type": "code",
   "execution_count": 25,
   "id": "2ffabded",
   "metadata": {
    "scrolled": true
   },
   "outputs": [
    {
     "name": "stdout",
     "output_type": "stream",
     "text": [
      "Track generation: 1200..1504 -> 304-tiles track\n",
      "Track generation: 1077..1356 -> 279-tiles track\n",
      "Episode:1 Score:[-60.3956]\n",
      "Track generation: 1167..1471 -> 304-tiles track\n",
      "Track generation: 1198..1502 -> 304-tiles track\n",
      "Episode:2 Score:[-60.39546]\n",
      "Track generation: 1263..1583 -> 320-tiles track\n",
      "Track generation: 1090..1372 -> 282-tiles track\n",
      "Episode:3 Score:[-81.19055]\n",
      "Track generation: 1187..1488 -> 301-tiles track\n",
      "Track generation: 1158..1461 -> 303-tiles track\n",
      "Episode:4 Score:[-79.999344]\n",
      "Track generation: 1240..1554 -> 314-tiles track\n",
      "Track generation: 1104..1384 -> 280-tiles track\n",
      "Episode:5 Score:[-80.83]\n"
     ]
    }
   ],
   "source": [
    "episodes = 5\n",
    "for episode in range(1, episodes+1):\n",
    "    obs = env.reset()\n",
    "    done = False\n",
    "    score = 0 \n",
    "    \n",
    "    while not done:\n",
    "        env.render()\n",
    "        action, _ = car.predict(obs)\n",
    "        obs, reward, done, info = env.step(action)\n",
    "        score+=reward\n",
    "    print('Episode:{} Score:{}'.format(episode, score))\n",
    "env.close()"
   ]
  },
  {
   "cell_type": "code",
   "execution_count": 4,
   "id": "a84e5bd2",
   "metadata": {},
   "outputs": [],
   "source": [
    "car2 = PPO.load('./Training/Saved Models/ppo_car_800k', env = env)"
   ]
  },
  {
   "cell_type": "code",
   "execution_count": 5,
   "id": "54682ef5",
   "metadata": {},
   "outputs": [
    {
     "name": "stdout",
     "output_type": "stream",
     "text": [
      "Track generation: 1156..1449 -> 293-tiles track\n"
     ]
    },
    {
     "name": "stderr",
     "output_type": "stream",
     "text": [
      "C:\\ProgramData\\Anaconda3\\lib\\site-packages\\pyglet\\image\\codecs\\wic.py:289: UserWarning: [WinError -2147417850] Cannot change thread mode after it is set\n",
      "  warnings.warn(str(err))\n"
     ]
    },
    {
     "name": "stdout",
     "output_type": "stream",
     "text": [
      "Track generation: 1159..1453 -> 294-tiles track\n",
      "Episode:1 Score:[-82.87601]\n",
      "Track generation: 963..1208 -> 245-tiles track\n",
      "Track generation: 1095..1381 -> 286-tiles track\n",
      "Episode:2 Score:[-79.507545]\n",
      "Track generation: 1186..1487 -> 301-tiles track\n",
      "Track generation: 1068..1339 -> 271-tiles track\n",
      "Episode:3 Score:[-83.33263]\n",
      "Track generation: 1201..1505 -> 304-tiles track\n",
      "Track generation: 1147..1438 -> 291-tiles track\n",
      "Episode:4 Score:[-83.49764]\n",
      "Track generation: 1127..1413 -> 286-tiles track\n",
      "Track generation: 1314..1646 -> 332-tiles track\n",
      "Episode:5 Score:[-82.455444]\n",
      "Track generation: 1055..1323 -> 268-tiles track\n",
      "Track generation: 1139..1428 -> 289-tiles track\n",
      "Episode:6 Score:[-81.27273]\n",
      "Track generation: 1061..1334 -> 273-tiles track\n",
      "retry to generate track (normal if there are not manyinstances of this message)\n",
      "Track generation: 1313..1645 -> 332-tiles track\n",
      "Track generation: 1136..1424 -> 288-tiles track\n",
      "Episode:7 Score:[-84.89353]\n",
      "Track generation: 1171..1468 -> 297-tiles track\n",
      "Track generation: 1107..1391 -> 284-tiles track\n",
      "retry to generate track (normal if there are not manyinstances of this message)\n",
      "Track generation: 1140..1429 -> 289-tiles track\n",
      "Episode:8 Score:[-83.1074]\n",
      "Track generation: 1140..1429 -> 289-tiles track\n",
      "Track generation: 1244..1559 -> 315-tiles track\n",
      "Episode:9 Score:[-82.63819]\n",
      "Track generation: 1181..1481 -> 300-tiles track\n",
      "Track generation: 1206..1512 -> 306-tiles track\n",
      "Episode:10 Score:[-83.276886]\n"
     ]
    }
   ],
   "source": [
    "episodes = 5\n",
    "for episode in range(1, episodes+1):\n",
    "    obs = env.reset()\n",
    "    done = False\n",
    "    score = 0 \n",
    "    \n",
    "    while not done:\n",
    "        env.render()\n",
    "        action, _ = car2.predict(obs)\n",
    "        obs, reward, done, info = env.step(action)\n",
    "        score+=reward\n",
    "    print('Episode:{} Score:{}'.format(episode, score))\n",
    "env.close()"
   ]
  },
  {
   "cell_type": "code",
   "execution_count": 26,
   "id": "048f4a27",
   "metadata": {},
   "outputs": [],
   "source": [
    "car3 = PPO.load('./Training/Saved Models/ppo_car_1mil', env = env)"
   ]
  },
  {
   "cell_type": "code",
   "execution_count": 27,
   "id": "cec4f34b",
   "metadata": {},
   "outputs": [
    {
     "name": "stdout",
     "output_type": "stream",
     "text": [
      "Track generation: 1052..1319 -> 267-tiles track\n",
      "Track generation: 1083..1362 -> 279-tiles track\n",
      "retry to generate track (normal if there are not manyinstances of this message)\n",
      "Track generation: 1147..1444 -> 297-tiles track\n",
      "Episode:1 Score:[-77.44299]\n",
      "Track generation: 1140..1429 -> 289-tiles track\n",
      "Track generation: 1136..1423 -> 287-tiles track\n",
      "Episode:2 Score:[-79.16597]\n",
      "Track generation: 1162..1457 -> 295-tiles track\n",
      "Track generation: 1076..1349 -> 273-tiles track\n",
      "Episode:3 Score:[-79.59113]\n"
     ]
    }
   ],
   "source": [
    "episodes = 3\n",
    "for episode in range(1, episodes+1):\n",
    "    obs = env.reset()\n",
    "    done = False\n",
    "    score = 0 \n",
    "    \n",
    "    while not done:\n",
    "        env.render()\n",
    "        action, _ = car3.predict(obs)\n",
    "        obs, reward, done, info = env.step(action)\n",
    "        score+=reward\n",
    "    print('Episode:{} Score:{}'.format(episode, score))\n",
    "env.close()"
   ]
  },
  {
   "cell_type": "code",
   "execution_count": null,
   "id": "d22a0737",
   "metadata": {},
   "outputs": [],
   "source": []
  }
 ],
 "metadata": {
  "kernelspec": {
   "display_name": "Python 3",
   "language": "python",
   "name": "python3"
  },
  "language_info": {
   "codemirror_mode": {
    "name": "ipython",
    "version": 3
   },
   "file_extension": ".py",
   "mimetype": "text/x-python",
   "name": "python",
   "nbconvert_exporter": "python",
   "pygments_lexer": "ipython3",
   "version": "3.8.8"
  }
 },
 "nbformat": 4,
 "nbformat_minor": 5
}
