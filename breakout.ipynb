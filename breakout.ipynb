{
 "cells": [
  {
   "cell_type": "markdown",
   "id": "6e5c7761",
   "metadata": {},
   "source": [
    "# Imports"
   ]
  },
  {
   "cell_type": "code",
   "execution_count": 1,
   "id": "f16f3543",
   "metadata": {},
   "outputs": [],
   "source": [
    "import gym\n",
    "from gym.wrappers import Monitor\n",
    "from stable_baselines3 import A2C\n",
    "from stable_baselines3.common.vec_env import VecFrameStack\n",
    "from stable_baselines3.common.evaluation import evaluate_policy\n",
    "from stable_baselines3.common.env_util import make_atari_env\n",
    "import os"
   ]
  },
  {
   "cell_type": "markdown",
   "id": "fbc6f2f3",
   "metadata": {},
   "source": [
    "# Load Environment"
   ]
  },
  {
   "cell_type": "code",
   "execution_count": 2,
   "id": "d13c281c",
   "metadata": {},
   "outputs": [],
   "source": [
    "# This is needed to load and render the Atari environments\n",
    "!python -m atari_py.import_roms .\\Roms\\ROMS"
   ]
  },
  {
   "cell_type": "code",
   "execution_count": 3,
   "id": "e1c03cb3",
   "metadata": {},
   "outputs": [],
   "source": [
    "env_name = 'Breakout-v0'\n",
    "env = gym.make(env_name)"
   ]
  },
  {
   "cell_type": "markdown",
   "id": "bcd5cf87",
   "metadata": {},
   "source": [
    "We'll check the action space to determine what algorithm to use. We'll also check the observation space as it might be a series of images allowing us to use a CNN incorporated into the policy."
   ]
  },
  {
   "cell_type": "code",
   "execution_count": 4,
   "id": "d04a6a93",
   "metadata": {},
   "outputs": [
    {
     "data": {
      "text/plain": [
       "Discrete(4)"
      ]
     },
     "execution_count": 4,
     "metadata": {},
     "output_type": "execute_result"
    }
   ],
   "source": [
    "env.action_space"
   ]
  },
  {
   "cell_type": "code",
   "execution_count": 5,
   "id": "a820cc2a",
   "metadata": {
    "scrolled": true
   },
   "outputs": [
    {
     "data": {
      "text/plain": [
       "Box([[[0 0 0]\n",
       "  [0 0 0]\n",
       "  [0 0 0]\n",
       "  ...\n",
       "  [0 0 0]\n",
       "  [0 0 0]\n",
       "  [0 0 0]]\n",
       "\n",
       " [[0 0 0]\n",
       "  [0 0 0]\n",
       "  [0 0 0]\n",
       "  ...\n",
       "  [0 0 0]\n",
       "  [0 0 0]\n",
       "  [0 0 0]]\n",
       "\n",
       " [[0 0 0]\n",
       "  [0 0 0]\n",
       "  [0 0 0]\n",
       "  ...\n",
       "  [0 0 0]\n",
       "  [0 0 0]\n",
       "  [0 0 0]]\n",
       "\n",
       " ...\n",
       "\n",
       " [[0 0 0]\n",
       "  [0 0 0]\n",
       "  [0 0 0]\n",
       "  ...\n",
       "  [0 0 0]\n",
       "  [0 0 0]\n",
       "  [0 0 0]]\n",
       "\n",
       " [[0 0 0]\n",
       "  [0 0 0]\n",
       "  [0 0 0]\n",
       "  ...\n",
       "  [0 0 0]\n",
       "  [0 0 0]\n",
       "  [0 0 0]]\n",
       "\n",
       " [[0 0 0]\n",
       "  [0 0 0]\n",
       "  [0 0 0]\n",
       "  ...\n",
       "  [0 0 0]\n",
       "  [0 0 0]\n",
       "  [0 0 0]]], [[[255 255 255]\n",
       "  [255 255 255]\n",
       "  [255 255 255]\n",
       "  ...\n",
       "  [255 255 255]\n",
       "  [255 255 255]\n",
       "  [255 255 255]]\n",
       "\n",
       " [[255 255 255]\n",
       "  [255 255 255]\n",
       "  [255 255 255]\n",
       "  ...\n",
       "  [255 255 255]\n",
       "  [255 255 255]\n",
       "  [255 255 255]]\n",
       "\n",
       " [[255 255 255]\n",
       "  [255 255 255]\n",
       "  [255 255 255]\n",
       "  ...\n",
       "  [255 255 255]\n",
       "  [255 255 255]\n",
       "  [255 255 255]]\n",
       "\n",
       " ...\n",
       "\n",
       " [[255 255 255]\n",
       "  [255 255 255]\n",
       "  [255 255 255]\n",
       "  ...\n",
       "  [255 255 255]\n",
       "  [255 255 255]\n",
       "  [255 255 255]]\n",
       "\n",
       " [[255 255 255]\n",
       "  [255 255 255]\n",
       "  [255 255 255]\n",
       "  ...\n",
       "  [255 255 255]\n",
       "  [255 255 255]\n",
       "  [255 255 255]]\n",
       "\n",
       " [[255 255 255]\n",
       "  [255 255 255]\n",
       "  [255 255 255]\n",
       "  ...\n",
       "  [255 255 255]\n",
       "  [255 255 255]\n",
       "  [255 255 255]]], (210, 160, 3), uint8)"
      ]
     },
     "execution_count": 5,
     "metadata": {},
     "output_type": "execute_result"
    }
   ],
   "source": [
    "env.observation_space"
   ]
  },
  {
   "cell_type": "markdown",
   "id": "9fd263c2",
   "metadata": {},
   "source": [
    "We'll quickly render the environment with the agent taking random steps just to see what we're dealing with."
   ]
  },
  {
   "cell_type": "code",
   "execution_count": 6,
   "id": "0dd2ef63",
   "metadata": {
    "scrolled": false
   },
   "outputs": [
    {
     "name": "stderr",
     "output_type": "stream",
     "text": [
      "C:\\ProgramData\\Anaconda3\\lib\\site-packages\\pyglet\\image\\codecs\\wic.py:289: UserWarning: [WinError -2147417850] Cannot change thread mode after it is set\n",
      "  warnings.warn(str(err))\n"
     ]
    },
    {
     "name": "stdout",
     "output_type": "stream",
     "text": [
      "Episode:1 Score:1.0\n",
      "Episode:2 Score:0.0\n",
      "Episode:3 Score:1.0\n",
      "Episode:4 Score:1.0\n",
      "Episode:5 Score:1.0\n"
     ]
    }
   ],
   "source": [
    "episodes = 5\n",
    "for episode in range(1, episodes + 1):\n",
    "    # resets state to its initial values\n",
    "    obs = env.reset()\n",
    "    done = False\n",
    "    score = 0\n",
    "    \n",
    "    while not done:\n",
    "        # renders the actual environment\n",
    "        env.render()\n",
    "        # generates random action\n",
    "        action = env.action_space.sample()\n",
    "        # env.step outputs 4 values that corresponds to our variables below\n",
    "        obs, reward, done, info = env.step(action)\n",
    "        score += reward\n",
    "    print('Episode:{} Score:{}'.format(episode, score))\n",
    "env.close()"
   ]
  },
  {
   "cell_type": "markdown",
   "id": "63d8ed9d",
   "metadata": {},
   "source": [
    "# Modeling"
   ]
  },
  {
   "cell_type": "markdown",
   "id": "05407bbd",
   "metadata": {},
   "source": [
    "Now we'll make the training environment. It will be vectorized so that we can train 4 environments simultaneously, speeding up training time"
   ]
  },
  {
   "cell_type": "code",
   "execution_count": 15,
   "id": "67d3a534",
   "metadata": {},
   "outputs": [],
   "source": [
    "env = make_atari_env('Breakout-v0', n_envs = 4, seed = 0)\n",
    "env = VecFrameStack(env, n_stack = 4)"
   ]
  },
  {
   "cell_type": "markdown",
   "id": "b878fa37",
   "metadata": {},
   "source": [
    "## A2C, 100k timesteps"
   ]
  },
  {
   "cell_type": "markdown",
   "id": "2c0fb70a",
   "metadata": {},
   "source": [
    "We'll use an A2C with a CNN policy because the action space is discrete and a CNN because the observation space is a series of images."
   ]
  },
  {
   "cell_type": "code",
   "execution_count": 16,
   "id": "2226e144",
   "metadata": {},
   "outputs": [],
   "source": [
    "log_path = os.path.join('Training', 'Logs')\n",
    "model = A2C('CnnPolicy', env, verbose = 0, tensorboard_log=log_path)"
   ]
  },
  {
   "cell_type": "code",
   "execution_count": 17,
   "id": "f7b43c7a",
   "metadata": {
    "scrolled": true
   },
   "outputs": [
    {
     "name": "stdout",
     "output_type": "stream",
     "text": [
      "Wall time: 22min 36s\n"
     ]
    },
    {
     "data": {
      "text/plain": [
       "<stable_baselines3.a2c.a2c.A2C at 0x273fcfa6460>"
      ]
     },
     "execution_count": 17,
     "metadata": {},
     "output_type": "execute_result"
    }
   ],
   "source": [
    "%%time\n",
    "model.learn(total_timesteps=100_000)"
   ]
  },
  {
   "cell_type": "markdown",
   "id": "9fdf9064",
   "metadata": {},
   "source": [
    "### Evaluation"
   ]
  },
  {
   "cell_type": "markdown",
   "id": "4c29fb5b",
   "metadata": {},
   "source": [
    "Out trained model is definitely better than taking random actions. So we'll increase the training time with the assumption that it will improve performance."
   ]
  },
  {
   "cell_type": "code",
   "execution_count": 18,
   "id": "7f02ed7d",
   "metadata": {},
   "outputs": [
    {
     "data": {
      "text/plain": [
       "(5.9, 2.118962010041709)"
      ]
     },
     "execution_count": 18,
     "metadata": {},
     "output_type": "execute_result"
    }
   ],
   "source": [
    "env = make_atari_env('Breakout-v0', n_envs = 1, seed = 0)\n",
    "env = VecFrameStack(env, n_stack = 4)\n",
    "\n",
    "evaluate_policy(model, env, n_eval_episodes=10, render = True)"
   ]
  },
  {
   "cell_type": "code",
   "execution_count": 19,
   "id": "b6d7acec",
   "metadata": {},
   "outputs": [],
   "source": [
    "# closes rendering of environment\n",
    "env.close()"
   ]
  },
  {
   "cell_type": "code",
   "execution_count": 24,
   "id": "31398e12",
   "metadata": {},
   "outputs": [],
   "source": [
    "# saving the model for future use\n",
    "# path = os.path.join('Training', 'Saved Models', 'a2c_breakout')\n",
    "# model.save(path)"
   ]
  },
  {
   "cell_type": "markdown",
   "id": "a0ccf8d9",
   "metadata": {},
   "source": [
    "## Model 2: A2C, 500k timesteps"
   ]
  },
  {
   "cell_type": "code",
   "execution_count": 20,
   "id": "1728507a",
   "metadata": {},
   "outputs": [],
   "source": [
    "env = make_atari_env('Breakout-v0', n_envs = 4, seed = 0)\n",
    "env = VecFrameStack(env, n_stack = 4)\n",
    "\n",
    "log_path = os.path.join('Training', 'Logs')\n",
    "model2 = A2C('CnnPolicy', env, verbose = 0, tensorboard_log=log_path)"
   ]
  },
  {
   "cell_type": "code",
   "execution_count": 21,
   "id": "6e3428de",
   "metadata": {
    "scrolled": true
   },
   "outputs": [
    {
     "name": "stdout",
     "output_type": "stream",
     "text": [
      "Wall time: 1h 49min 7s\n"
     ]
    },
    {
     "data": {
      "text/plain": [
       "<stable_baselines3.a2c.a2c.A2C at 0x273fcfc1a90>"
      ]
     },
     "execution_count": 21,
     "metadata": {},
     "output_type": "execute_result"
    }
   ],
   "source": [
    "%%time\n",
    "model2.learn(total_timesteps=500_000)"
   ]
  },
  {
   "cell_type": "markdown",
   "id": "1665d16c",
   "metadata": {},
   "source": [
    "### Evaluation"
   ]
  },
  {
   "cell_type": "markdown",
   "id": "87f55b17",
   "metadata": {},
   "source": [
    "Further evaluation has shown our assumption to be correct: More training results in a higher score."
   ]
  },
  {
   "cell_type": "code",
   "execution_count": 22,
   "id": "d41b2f58",
   "metadata": {},
   "outputs": [
    {
     "data": {
      "text/plain": [
       "(9.0, 1.7888543819998317)"
      ]
     },
     "execution_count": 22,
     "metadata": {},
     "output_type": "execute_result"
    }
   ],
   "source": [
    "env = make_atari_env('Breakout-v0', n_envs = 1, seed = 0)\n",
    "env = VecFrameStack(env, n_stack = 4)\n",
    "\n",
    "evaluate_policy(model2, env, n_eval_episodes=10, render = True)"
   ]
  },
  {
   "cell_type": "code",
   "execution_count": 23,
   "id": "a53796ff",
   "metadata": {},
   "outputs": [],
   "source": [
    "# closes rendering of environment\n",
    "env.close()"
   ]
  },
  {
   "cell_type": "code",
   "execution_count": 25,
   "id": "1abf1d29",
   "metadata": {},
   "outputs": [],
   "source": [
    "# save model\n",
    "# path2 = os.path.join('Training', 'Saved Models', 'a2c_breakout500k')\n",
    "# model2.save(path2)"
   ]
  },
  {
   "cell_type": "markdown",
   "id": "13da1c4c",
   "metadata": {},
   "source": [
    "## 1mil timesteps"
   ]
  },
  {
   "cell_type": "code",
   "execution_count": 26,
   "id": "8f54382a",
   "metadata": {},
   "outputs": [],
   "source": [
    "env = make_atari_env('Breakout-v0', n_envs = 4, seed = 0)\n",
    "env = VecFrameStack(env, n_stack = 4)"
   ]
  },
  {
   "cell_type": "code",
   "execution_count": 27,
   "id": "af3699e8",
   "metadata": {
    "scrolled": true
   },
   "outputs": [
    {
     "name": "stdout",
     "output_type": "stream",
     "text": [
      "Wall time: 1h 45min\n"
     ]
    },
    {
     "data": {
      "text/plain": [
       "<stable_baselines3.a2c.a2c.A2C at 0x273fcfc1a90>"
      ]
     },
     "execution_count": 27,
     "metadata": {},
     "output_type": "execute_result"
    }
   ],
   "source": [
    "%%time\n",
    "model2.learn(total_timesteps=500_000)"
   ]
  },
  {
   "cell_type": "markdown",
   "id": "054149c7",
   "metadata": {},
   "source": [
    "### Evaluation"
   ]
  },
  {
   "cell_type": "markdown",
   "id": "1f4a2fa0",
   "metadata": {},
   "source": [
    "Our best model for Breakout! Had we more time and computation, we could increase our score."
   ]
  },
  {
   "cell_type": "code",
   "execution_count": 28,
   "id": "4e807922",
   "metadata": {},
   "outputs": [
    {
     "data": {
      "text/plain": [
       "(16.9, 6.862215385719105)"
      ]
     },
     "execution_count": 28,
     "metadata": {},
     "output_type": "execute_result"
    }
   ],
   "source": [
    "env = make_atari_env('Breakout-v0', n_envs = 1, seed = 0)\n",
    "env = VecFrameStack(env, n_stack = 4)\n",
    "\n",
    "evaluate_policy(model2, env, n_eval_episodes=10, render = True)"
   ]
  },
  {
   "cell_type": "code",
   "execution_count": 29,
   "id": "26532660",
   "metadata": {},
   "outputs": [],
   "source": [
    "env.close()"
   ]
  },
  {
   "cell_type": "code",
   "execution_count": 30,
   "id": "9a23d637",
   "metadata": {},
   "outputs": [],
   "source": [
    "# saving the model for future use\n",
    "# path3 = os.path.join('Training', 'Saved Models', 'a2c_breakout1mil')\n",
    "# model2.save(path3)"
   ]
  }
 ],
 "metadata": {
  "kernelspec": {
   "display_name": "Python 3",
   "language": "python",
   "name": "python3"
  },
  "language_info": {
   "codemirror_mode": {
    "name": "ipython",
    "version": 3
   },
   "file_extension": ".py",
   "mimetype": "text/x-python",
   "name": "python",
   "nbconvert_exporter": "python",
   "pygments_lexer": "ipython3",
   "version": "3.8.8"
  }
 },
 "nbformat": 4,
 "nbformat_minor": 5
}
