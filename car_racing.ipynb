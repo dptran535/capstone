{
 "cells": [
  {
   "cell_type": "markdown",
   "id": "57d0b43f",
   "metadata": {},
   "source": [
    "# Imports"
   ]
  },
  {
   "cell_type": "code",
   "execution_count": 1,
   "id": "072238cc",
   "metadata": {},
   "outputs": [],
   "source": [
    "import gym\n",
    "from stable_baselines3 import PPO\n",
    "from stable_baselines3.common.vec_env import DummyVecEnv\n",
    "from stable_baselines3.common.evaluation import evaluate_policy\n",
    "import os"
   ]
  },
  {
   "cell_type": "markdown",
   "id": "58596d8f",
   "metadata": {},
   "source": [
    "# Load Environment"
   ]
  },
  {
   "cell_type": "code",
   "execution_count": 2,
   "id": "a99ea7f1",
   "metadata": {},
   "outputs": [],
   "source": [
    "env_name = 'CarRacing-v0'\n",
    "env = gym.make(env_name)"
   ]
  },
  {
   "cell_type": "markdown",
   "id": "259b3ee3",
   "metadata": {},
   "source": [
    "We check the action and observation spaces to determine what algorithms to use."
   ]
  },
  {
   "cell_type": "code",
   "execution_count": 3,
   "id": "e6a9fb54",
   "metadata": {},
   "outputs": [
    {
     "data": {
      "text/plain": [
       "Box([-1.  0.  0.], [1. 1. 1.], (3,), float32)"
      ]
     },
     "execution_count": 3,
     "metadata": {},
     "output_type": "execute_result"
    }
   ],
   "source": [
    "env.action_space"
   ]
  },
  {
   "cell_type": "code",
   "execution_count": 4,
   "id": "17465ee0",
   "metadata": {
    "scrolled": true
   },
   "outputs": [
    {
     "data": {
      "text/plain": [
       "Box([[[0 0 0]\n",
       "  [0 0 0]\n",
       "  [0 0 0]\n",
       "  ...\n",
       "  [0 0 0]\n",
       "  [0 0 0]\n",
       "  [0 0 0]]\n",
       "\n",
       " [[0 0 0]\n",
       "  [0 0 0]\n",
       "  [0 0 0]\n",
       "  ...\n",
       "  [0 0 0]\n",
       "  [0 0 0]\n",
       "  [0 0 0]]\n",
       "\n",
       " [[0 0 0]\n",
       "  [0 0 0]\n",
       "  [0 0 0]\n",
       "  ...\n",
       "  [0 0 0]\n",
       "  [0 0 0]\n",
       "  [0 0 0]]\n",
       "\n",
       " ...\n",
       "\n",
       " [[0 0 0]\n",
       "  [0 0 0]\n",
       "  [0 0 0]\n",
       "  ...\n",
       "  [0 0 0]\n",
       "  [0 0 0]\n",
       "  [0 0 0]]\n",
       "\n",
       " [[0 0 0]\n",
       "  [0 0 0]\n",
       "  [0 0 0]\n",
       "  ...\n",
       "  [0 0 0]\n",
       "  [0 0 0]\n",
       "  [0 0 0]]\n",
       "\n",
       " [[0 0 0]\n",
       "  [0 0 0]\n",
       "  [0 0 0]\n",
       "  ...\n",
       "  [0 0 0]\n",
       "  [0 0 0]\n",
       "  [0 0 0]]], [[[255 255 255]\n",
       "  [255 255 255]\n",
       "  [255 255 255]\n",
       "  ...\n",
       "  [255 255 255]\n",
       "  [255 255 255]\n",
       "  [255 255 255]]\n",
       "\n",
       " [[255 255 255]\n",
       "  [255 255 255]\n",
       "  [255 255 255]\n",
       "  ...\n",
       "  [255 255 255]\n",
       "  [255 255 255]\n",
       "  [255 255 255]]\n",
       "\n",
       " [[255 255 255]\n",
       "  [255 255 255]\n",
       "  [255 255 255]\n",
       "  ...\n",
       "  [255 255 255]\n",
       "  [255 255 255]\n",
       "  [255 255 255]]\n",
       "\n",
       " ...\n",
       "\n",
       " [[255 255 255]\n",
       "  [255 255 255]\n",
       "  [255 255 255]\n",
       "  ...\n",
       "  [255 255 255]\n",
       "  [255 255 255]\n",
       "  [255 255 255]]\n",
       "\n",
       " [[255 255 255]\n",
       "  [255 255 255]\n",
       "  [255 255 255]\n",
       "  ...\n",
       "  [255 255 255]\n",
       "  [255 255 255]\n",
       "  [255 255 255]]\n",
       "\n",
       " [[255 255 255]\n",
       "  [255 255 255]\n",
       "  [255 255 255]\n",
       "  ...\n",
       "  [255 255 255]\n",
       "  [255 255 255]\n",
       "  [255 255 255]]], (96, 96, 3), uint8)"
      ]
     },
     "execution_count": 4,
     "metadata": {},
     "output_type": "execute_result"
    }
   ],
   "source": [
    "env.observation_space"
   ]
  },
  {
   "cell_type": "markdown",
   "id": "95ceda68",
   "metadata": {},
   "source": [
    "We have our environment render with our agent taking random moves to get a sense of it all."
   ]
  },
  {
   "cell_type": "code",
   "execution_count": 5,
   "id": "77a4c836",
   "metadata": {},
   "outputs": [
    {
     "name": "stdout",
     "output_type": "stream",
     "text": [
      "Track generation: 1296..1624 -> 328-tiles track\n"
     ]
    },
    {
     "name": "stderr",
     "output_type": "stream",
     "text": [
      "C:\\ProgramData\\Anaconda3\\lib\\site-packages\\pyglet\\image\\codecs\\wic.py:289: UserWarning: [WinError -2147417850] Cannot change thread mode after it is set\n",
      "  warnings.warn(str(err))\n"
     ]
    },
    {
     "name": "stdout",
     "output_type": "stream",
     "text": [
      "Episode:1 Score:-41.89602446483242\n",
      "Track generation: 1221..1531 -> 310-tiles track\n",
      "Episode:2 Score:-35.275080906149434\n",
      "Track generation: 1183..1483 -> 300-tiles track\n",
      "Episode:3 Score:-33.11036789297714\n",
      "Track generation: 1291..1618 -> 327-tiles track\n",
      "Episode:4 Score:-38.65030674846684\n",
      "Track generation: 1085..1360 -> 275-tiles track\n",
      "Episode:5 Score:-27.007299270073318\n"
     ]
    }
   ],
   "source": [
    "episodes = 5\n",
    "for episode in range(1, episodes + 1):\n",
    "    # resets state to its initial values\n",
    "    obs = env.reset()\n",
    "    done = False\n",
    "    score = 0\n",
    "    \n",
    "    while not done:\n",
    "        # renders the actual environment\n",
    "        env.render()\n",
    "        # generates random action\n",
    "        action = env.action_space.sample()\n",
    "        # env.step outputs 4 values that corresponds to our variables below\n",
    "        obs, reward, done, info = env.step(action)\n",
    "        score += reward\n",
    "    print('Episode:{} Score:{}'.format(episode, score))\n",
    "env.close()"
   ]
  },
  {
   "cell_type": "markdown",
   "id": "432bc3cb",
   "metadata": {},
   "source": [
    "# Modeling"
   ]
  },
  {
   "cell_type": "markdown",
   "id": "9c784f0b",
   "metadata": {},
   "source": [
    "## Model 1: PPO, 100k timesteps"
   ]
  },
  {
   "cell_type": "code",
   "execution_count": 6,
   "id": "9ffdd4cf",
   "metadata": {},
   "outputs": [],
   "source": [
    "env = gym.make(env_name)\n",
    "env = DummyVecEnv([lambda: env])"
   ]
  },
  {
   "cell_type": "code",
   "execution_count": 7,
   "id": "11fa46b1",
   "metadata": {},
   "outputs": [],
   "source": [
    "log_path = os.path.join('Training', 'Logs')\n",
    "model = PPO('CnnPolicy', env, verbose = 0, tensorboard_log=log_path)"
   ]
  },
  {
   "cell_type": "code",
   "execution_count": 8,
   "id": "a3569a39",
   "metadata": {
    "scrolled": true
   },
   "outputs": [
    {
     "name": "stdout",
     "output_type": "stream",
     "text": [
      "Track generation: 1188..1489 -> 301-tiles track\n",
      "Track generation: 1076..1349 -> 273-tiles track\n",
      "Track generation: 1116..1399 -> 283-tiles track\n",
      "Track generation: 1084..1363 -> 279-tiles track\n",
      "retry to generate track (normal if there are not manyinstances of this message)\n",
      "Track generation: 1295..1624 -> 329-tiles track\n",
      "retry to generate track (normal if there are not manyinstances of this message)\n",
      "Track generation: 981..1230 -> 249-tiles track\n",
      "Track generation: 1123..1408 -> 285-tiles track\n",
      "Track generation: 978..1230 -> 252-tiles track\n",
      "retry to generate track (normal if there are not manyinstances of this message)\n",
      "Track generation: 1186..1487 -> 301-tiles track\n",
      "Track generation: 1043..1308 -> 265-tiles track\n",
      "Track generation: 1164..1459 -> 295-tiles track\n",
      "Track generation: 1164..1463 -> 299-tiles track\n",
      "retry to generate track (normal if there are not manyinstances of this message)\n",
      "Track generation: 1096..1374 -> 278-tiles track\n",
      "Track generation: 1143..1440 -> 297-tiles track\n",
      "Track generation: 1222..1531 -> 309-tiles track\n",
      "Track generation: 1116..1399 -> 283-tiles track\n",
      "Track generation: 1241..1555 -> 314-tiles track\n",
      "Track generation: 1248..1564 -> 316-tiles track\n",
      "Track generation: 1141..1434 -> 293-tiles track\n",
      "retry to generate track (normal if there are not manyinstances of this message)\n",
      "Track generation: 1113..1395 -> 282-tiles track\n",
      "Track generation: 1123..1415 -> 292-tiles track\n",
      "Track generation: 1172..1469 -> 297-tiles track\n",
      "Track generation: 982..1241 -> 259-tiles track\n",
      "Track generation: 1221..1539 -> 318-tiles track\n",
      "Track generation: 1203..1508 -> 305-tiles track\n",
      "Track generation: 1111..1393 -> 282-tiles track\n",
      "Track generation: 1172..1469 -> 297-tiles track\n",
      "Track generation: 1185..1485 -> 300-tiles track\n",
      "Track generation: 1161..1455 -> 294-tiles track\n",
      "Track generation: 1208..1514 -> 306-tiles track\n",
      "Track generation: 1051..1324 -> 273-tiles track\n",
      "Track generation: 1220..1529 -> 309-tiles track\n",
      "Track generation: 1193..1505 -> 312-tiles track\n",
      "Track generation: 1251..1568 -> 317-tiles track\n",
      "Track generation: 1132..1420 -> 288-tiles track\n",
      "Track generation: 1099..1378 -> 279-tiles track\n",
      "Track generation: 1044..1317 -> 273-tiles track\n",
      "Track generation: 1257..1574 -> 317-tiles track\n",
      "Track generation: 1244..1559 -> 315-tiles track\n",
      "Track generation: 1166..1470 -> 304-tiles track\n",
      "Track generation: 1027..1290 -> 263-tiles track\n",
      "retry to generate track (normal if there are not manyinstances of this message)\n",
      "Track generation: 1104..1392 -> 288-tiles track\n",
      "Track generation: 1161..1456 -> 295-tiles track\n",
      "Track generation: 1107..1388 -> 281-tiles track\n",
      "Track generation: 1303..1633 -> 330-tiles track\n",
      "Track generation: 1183..1483 -> 300-tiles track\n",
      "Track generation: 1192..1494 -> 302-tiles track\n",
      "Track generation: 1121..1416 -> 295-tiles track\n",
      "Track generation: 1167..1463 -> 296-tiles track\n",
      "Track generation: 1314..1646 -> 332-tiles track\n",
      "Track generation: 1127..1413 -> 286-tiles track\n",
      "Track generation: 1158..1455 -> 297-tiles track\n",
      "Track generation: 1174..1471 -> 297-tiles track\n",
      "Track generation: 1150..1442 -> 292-tiles track\n",
      "Track generation: 1129..1415 -> 286-tiles track\n",
      "Track generation: 1157..1450 -> 293-tiles track\n",
      "Track generation: 975..1229 -> 254-tiles track\n",
      "Track generation: 1097..1381 -> 284-tiles track\n",
      "Track generation: 1043..1308 -> 265-tiles track\n",
      "Track generation: 1088..1364 -> 276-tiles track\n",
      "Track generation: 1183..1483 -> 300-tiles track\n",
      "Track generation: 1175..1473 -> 298-tiles track\n",
      "Track generation: 1160..1455 -> 295-tiles track\n",
      "retry to generate track (normal if there are not manyinstances of this message)\n",
      "Track generation: 947..1188 -> 241-tiles track\n",
      "Track generation: 969..1225 -> 256-tiles track\n",
      "Track generation: 1067..1345 -> 278-tiles track\n",
      "Track generation: 1236..1546 -> 310-tiles track\n",
      "Track generation: 1296..1624 -> 328-tiles track\n",
      "Track generation: 1108..1389 -> 281-tiles track\n",
      "Track generation: 1129..1424 -> 295-tiles track\n",
      "Track generation: 1200..1504 -> 304-tiles track\n",
      "Track generation: 1172..1469 -> 297-tiles track\n",
      "Track generation: 1044..1310 -> 266-tiles track\n",
      "Track generation: 1012..1270 -> 258-tiles track\n",
      "Track generation: 1159..1453 -> 294-tiles track\n",
      "Track generation: 1116..1399 -> 283-tiles track\n",
      "Track generation: 1072..1348 -> 276-tiles track\n",
      "Track generation: 1132..1424 -> 292-tiles track\n",
      "Track generation: 1115..1404 -> 289-tiles track\n",
      "Track generation: 1160..1454 -> 294-tiles track\n",
      "Track generation: 966..1221 -> 255-tiles track\n",
      "Track generation: 1075..1348 -> 273-tiles track\n",
      "Track generation: 1100..1379 -> 279-tiles track\n",
      "Track generation: 1225..1535 -> 310-tiles track\n",
      "Track generation: 1080..1354 -> 274-tiles track\n",
      "Track generation: 1039..1311 -> 272-tiles track\n",
      "Track generation: 1166..1462 -> 296-tiles track\n",
      "Track generation: 1127..1413 -> 286-tiles track\n",
      "Track generation: 928..1172 -> 244-tiles track\n",
      "Track generation: 1044..1318 -> 274-tiles track\n",
      "Track generation: 1056..1328 -> 272-tiles track\n",
      "Track generation: 1213..1520 -> 307-tiles track\n",
      "Track generation: 1184..1490 -> 306-tiles track\n",
      "Track generation: 1192..1494 -> 302-tiles track\n",
      "Track generation: 1274..1597 -> 323-tiles track\n",
      "Track generation: 1171..1468 -> 297-tiles track\n",
      "Track generation: 1236..1549 -> 313-tiles track\n",
      "Track generation: 1151..1443 -> 292-tiles track\n",
      "Track generation: 1111..1393 -> 282-tiles track\n",
      "Track generation: 1116..1399 -> 283-tiles track\n",
      "Track generation: 1176..1474 -> 298-tiles track\n",
      "Track generation: 1084..1359 -> 275-tiles track\n",
      "Track generation: 1130..1417 -> 287-tiles track\n",
      "Track generation: 1109..1399 -> 290-tiles track\n",
      "Track generation: 1375..1723 -> 348-tiles track\n",
      "Track generation: 1253..1570 -> 317-tiles track\n",
      "Track generation: 1232..1544 -> 312-tiles track\n",
      "Track generation: 1146..1441 -> 295-tiles track\n",
      "Wall time: 13min 12s\n"
     ]
    },
    {
     "data": {
      "text/plain": [
       "<stable_baselines3.ppo.ppo.PPO at 0x232399ac5e0>"
      ]
     },
     "execution_count": 8,
     "metadata": {},
     "output_type": "execute_result"
    }
   ],
   "source": [
    "%%time\n",
    "model.learn(total_timesteps=100_000)"
   ]
  },
  {
   "cell_type": "markdown",
   "id": "c9515709",
   "metadata": {},
   "source": [
    "### Evaluation"
   ]
  },
  {
   "cell_type": "markdown",
   "id": "b227c323",
   "metadata": {},
   "source": [
    "With the first training done, we aren't sure how well it will do so we'll train it again to compare."
   ]
  },
  {
   "cell_type": "code",
   "execution_count": 9,
   "id": "0c2a44df",
   "metadata": {},
   "outputs": [
    {
     "name": "stderr",
     "output_type": "stream",
     "text": [
      "C:\\ProgramData\\Anaconda3\\lib\\site-packages\\stable_baselines3\\common\\evaluation.py:65: UserWarning: Evaluation environment is not wrapped with a ``Monitor`` wrapper. This may result in reporting modified episode lengths and rewards, if other wrappers happen to modify these. Consider wrapping environment first with ``Monitor`` wrapper.\n",
      "  warnings.warn(\n"
     ]
    },
    {
     "name": "stdout",
     "output_type": "stream",
     "text": [
      "Track generation: 927..1168 -> 241-tiles track\n",
      "Track generation: 999..1258 -> 259-tiles track\n",
      "Track generation: 1168..1469 -> 301-tiles track\n",
      "Track generation: 1121..1413 -> 292-tiles track\n",
      "Track generation: 1148..1439 -> 291-tiles track\n",
      "Track generation: 1155..1448 -> 293-tiles track\n",
      "Track generation: 1001..1261 -> 260-tiles track\n",
      "Track generation: 1080..1354 -> 274-tiles track\n",
      "Track generation: 1259..1578 -> 319-tiles track\n",
      "Track generation: 1243..1558 -> 315-tiles track\n",
      "Track generation: 1077..1357 -> 280-tiles track\n"
     ]
    },
    {
     "data": {
      "text/plain": [
       "(-44.17115752696991, 21.888285325715312)"
      ]
     },
     "execution_count": 9,
     "metadata": {},
     "output_type": "execute_result"
    }
   ],
   "source": [
    "evaluate_policy(model, env, n_eval_episodes=10, render = True)"
   ]
  },
  {
   "cell_type": "code",
   "execution_count": 10,
   "id": "575b4782",
   "metadata": {},
   "outputs": [],
   "source": [
    "env.close()"
   ]
  },
  {
   "cell_type": "markdown",
   "id": "dbea95e2",
   "metadata": {},
   "source": [
    "## Model 2: 300k timesteps"
   ]
  },
  {
   "cell_type": "code",
   "execution_count": 11,
   "id": "28a1ea66",
   "metadata": {
    "scrolled": true
   },
   "outputs": [
    {
     "name": "stdout",
     "output_type": "stream",
     "text": [
      "Track generation: 1314..1647 -> 333-tiles track\n",
      "Track generation: 1200..1504 -> 304-tiles track\n",
      "Track generation: 1119..1403 -> 284-tiles track\n",
      "Track generation: 1056..1334 -> 278-tiles track\n",
      "Track generation: 1152..1444 -> 292-tiles track\n",
      "Track generation: 1355..1698 -> 343-tiles track\n",
      "Track generation: 1104..1391 -> 287-tiles track\n",
      "Track generation: 1026..1295 -> 269-tiles track\n",
      "Track generation: 1237..1557 -> 320-tiles track\n",
      "Track generation: 1172..1469 -> 297-tiles track\n",
      "Track generation: 1040..1304 -> 264-tiles track\n",
      "Track generation: 1232..1552 -> 320-tiles track\n",
      "Track generation: 1061..1330 -> 269-tiles track\n",
      "Track generation: 1137..1425 -> 288-tiles track\n",
      "Track generation: 1151..1443 -> 292-tiles track\n",
      "Track generation: 1056..1324 -> 268-tiles track\n",
      "Track generation: 907..1140 -> 233-tiles track\n",
      "retry to generate track (normal if there are not manyinstances of this message)\n",
      "Track generation: 1096..1374 -> 278-tiles track\n",
      "Track generation: 970..1224 -> 254-tiles track\n",
      "Track generation: 955..1201 -> 246-tiles track\n",
      "retry to generate track (normal if there are not manyinstances of this message)\n",
      "Track generation: 1051..1318 -> 267-tiles track\n",
      "Track generation: 1112..1394 -> 282-tiles track\n",
      "Track generation: 1188..1500 -> 312-tiles track\n",
      "Track generation: 1044..1309 -> 265-tiles track\n",
      "Track generation: 1221..1530 -> 309-tiles track\n",
      "Track generation: 1220..1529 -> 309-tiles track\n",
      "Track generation: 1195..1498 -> 303-tiles track\n",
      "Track generation: 1132..1424 -> 292-tiles track\n",
      "Track generation: 1004..1264 -> 260-tiles track\n",
      "Track generation: 1248..1564 -> 316-tiles track\n",
      "Track generation: 1296..1624 -> 328-tiles track\n",
      "Track generation: 1088..1361 -> 273-tiles track\n",
      "Track generation: 1128..1414 -> 286-tiles track\n",
      "Track generation: 1160..1454 -> 294-tiles track\n",
      "Track generation: 1311..1643 -> 332-tiles track\n",
      "Track generation: 1028..1296 -> 268-tiles track\n",
      "Track generation: 1120..1404 -> 284-tiles track\n",
      "Track generation: 1087..1363 -> 276-tiles track\n",
      "Track generation: 1181..1486 -> 305-tiles track\n",
      "Track generation: 1163..1458 -> 295-tiles track\n",
      "Track generation: 1258..1577 -> 319-tiles track\n",
      "Track generation: 1169..1466 -> 297-tiles track\n",
      "Track generation: 1308..1646 -> 338-tiles track\n",
      "Track generation: 1293..1620 -> 327-tiles track\n",
      "Track generation: 978..1227 -> 249-tiles track\n",
      "Track generation: 1193..1495 -> 302-tiles track\n",
      "Track generation: 1175..1473 -> 298-tiles track\n",
      "Track generation: 1124..1409 -> 285-tiles track\n",
      "Track generation: 1075..1348 -> 273-tiles track\n",
      "Track generation: 1247..1563 -> 316-tiles track\n",
      "Track generation: 1036..1299 -> 263-tiles track\n",
      "Track generation: 1218..1527 -> 309-tiles track\n",
      "Track generation: 885..1115 -> 230-tiles track\n",
      "Track generation: 1065..1335 -> 270-tiles track\n",
      "Track generation: 1192..1494 -> 302-tiles track\n",
      "Track generation: 1089..1374 -> 285-tiles track\n",
      "Track generation: 1200..1504 -> 304-tiles track\n",
      "Track generation: 1004..1259 -> 255-tiles track\n",
      "Track generation: 1123..1410 -> 287-tiles track\n",
      "retry to generate track (normal if there are not manyinstances of this message)\n",
      "Track generation: 1114..1396 -> 282-tiles track\n",
      "Track generation: 1003..1258 -> 255-tiles track\n",
      "Track generation: 1116..1399 -> 283-tiles track\n",
      "Track generation: 1019..1278 -> 259-tiles track\n",
      "Track generation: 1238..1515 -> 277-tiles track\n",
      "retry to generate track (normal if there are not manyinstances of this message)\n",
      "Track generation: 1270..1592 -> 322-tiles track\n",
      "Track generation: 1338..1675 -> 337-tiles track\n",
      "Track generation: 940..1179 -> 239-tiles track\n",
      "Track generation: 1327..1671 -> 344-tiles track\n",
      "Track generation: 1185..1486 -> 301-tiles track\n",
      "Track generation: 1188..1489 -> 301-tiles track\n",
      "Track generation: 1224..1534 -> 310-tiles track\n",
      "Track generation: 1159..1463 -> 304-tiles track\n",
      "retry to generate track (normal if there are not manyinstances of this message)\n",
      "Track generation: 976..1224 -> 248-tiles track\n",
      "Track generation: 1073..1354 -> 281-tiles track\n",
      "Track generation: 1211..1521 -> 310-tiles track\n",
      "retry to generate track (normal if there are not manyinstances of this message)\n",
      "Track generation: 1189..1496 -> 307-tiles track\n",
      "Track generation: 1252..1569 -> 317-tiles track\n",
      "Track generation: 1080..1354 -> 274-tiles track\n",
      "Track generation: 1276..1599 -> 323-tiles track\n",
      "Track generation: 1144..1434 -> 290-tiles track\n",
      "Track generation: 1180..1479 -> 299-tiles track\n",
      "Track generation: 1060..1331 -> 271-tiles track\n",
      "retry to generate track (normal if there are not manyinstances of this message)\n",
      "Track generation: 1316..1649 -> 333-tiles track\n",
      "Track generation: 1113..1395 -> 282-tiles track\n",
      "Track generation: 1150..1442 -> 292-tiles track\n",
      "Track generation: 1167..1463 -> 296-tiles track\n",
      "Track generation: 1342..1682 -> 340-tiles track\n",
      "Track generation: 1141..1430 -> 289-tiles track\n",
      "Track generation: 967..1220 -> 253-tiles track\n",
      "Track generation: 1243..1558 -> 315-tiles track\n",
      "Track generation: 1030..1301 -> 271-tiles track\n",
      "Track generation: 1183..1483 -> 300-tiles track\n",
      "Track generation: 1210..1516 -> 306-tiles track\n",
      "Track generation: 1108..1389 -> 281-tiles track\n",
      "Track generation: 1234..1553 -> 319-tiles track\n",
      "Track generation: 1210..1517 -> 307-tiles track\n",
      "Track generation: 1105..1389 -> 284-tiles track\n",
      "retry to generate track (normal if there are not manyinstances of this message)\n",
      "Track generation: 993..1245 -> 252-tiles track\n",
      "Track generation: 1113..1396 -> 283-tiles track\n",
      "Track generation: 1063..1333 -> 270-tiles track\n",
      "Track generation: 1024..1287 -> 263-tiles track\n",
      "retry to generate track (normal if there are not manyinstances of this message)\n",
      "Track generation: 1091..1375 -> 284-tiles track\n",
      "retry to generate track (normal if there are not manyinstances of this message)\n",
      "Track generation: 999..1259 -> 260-tiles track\n",
      "Track generation: 1020..1279 -> 259-tiles track\n",
      "Track generation: 1084..1359 -> 275-tiles track\n",
      "Track generation: 1113..1395 -> 282-tiles track\n",
      "Track generation: 1224..1535 -> 311-tiles track\n",
      "Track generation: 1280..1604 -> 324-tiles track\n",
      "Track generation: 1233..1550 -> 317-tiles track\n",
      "Track generation: 982..1232 -> 250-tiles track\n",
      "Track generation: 973..1229 -> 256-tiles track\n",
      "Track generation: 1093..1370 -> 277-tiles track\n",
      "Track generation: 1123..1410 -> 287-tiles track\n",
      "retry to generate track (normal if there are not manyinstances of this message)\n",
      "Track generation: 1007..1266 -> 259-tiles track\n",
      "retry to generate track (normal if there are not manyinstances of this message)\n",
      "Track generation: 1217..1525 -> 308-tiles track\n",
      "Track generation: 1209..1515 -> 306-tiles track\n",
      "Track generation: 996..1256 -> 260-tiles track\n",
      "Track generation: 1038..1302 -> 264-tiles track\n",
      "Track generation: 1111..1393 -> 282-tiles track\n",
      "Track generation: 1011..1268 -> 257-tiles track\n",
      "Track generation: 1104..1384 -> 280-tiles track\n",
      "Track generation: 1147..1440 -> 293-tiles track\n",
      "retry to generate track (normal if there are not manyinstances of this message)\n",
      "Track generation: 1133..1428 -> 295-tiles track\n",
      "Track generation: 1253..1570 -> 317-tiles track\n",
      "Track generation: 1236..1556 -> 320-tiles track\n",
      "Track generation: 1123..1408 -> 285-tiles track\n",
      "Track generation: 1012..1268 -> 256-tiles track\n",
      "Track generation: 1233..1553 -> 320-tiles track\n",
      "Track generation: 1177..1475 -> 298-tiles track\n",
      "Track generation: 1194..1503 -> 309-tiles track\n",
      "Track generation: 1201..1505 -> 304-tiles track\n",
      "Track generation: 1291..1618 -> 327-tiles track\n",
      "Track generation: 1033..1298 -> 265-tiles track\n",
      "retry to generate track (normal if there are not manyinstances of this message)\n",
      "Track generation: 1088..1367 -> 279-tiles track\n",
      "retry to generate track (normal if there are not manyinstances of this message)\n",
      "Track generation: 1114..1397 -> 283-tiles track\n",
      "Track generation: 1139..1428 -> 289-tiles track\n",
      "Track generation: 1212..1519 -> 307-tiles track\n",
      "Track generation: 1259..1578 -> 319-tiles track\n",
      "Track generation: 1042..1312 -> 270-tiles track\n",
      "Track generation: 1067..1345 -> 278-tiles track\n",
      "Track generation: 1362..1706 -> 344-tiles track\n",
      "Track generation: 1288..1613 -> 325-tiles track\n",
      "Track generation: 1176..1474 -> 298-tiles track\n",
      "Track generation: 1150..1442 -> 292-tiles track\n",
      "Track generation: 1042..1315 -> 273-tiles track\n",
      "Track generation: 1148..1439 -> 291-tiles track\n"
     ]
    },
    {
     "name": "stdout",
     "output_type": "stream",
     "text": [
      "Track generation: 1074..1349 -> 275-tiles track\n",
      "retry to generate track (normal if there are not manyinstances of this message)\n",
      "Track generation: 1197..1500 -> 303-tiles track\n",
      "Track generation: 1175..1478 -> 303-tiles track\n",
      "Track generation: 1013..1272 -> 259-tiles track\n",
      "retry to generate track (normal if there are not manyinstances of this message)\n",
      "Track generation: 1076..1349 -> 273-tiles track\n",
      "Track generation: 1196..1499 -> 303-tiles track\n",
      "Track generation: 1084..1359 -> 275-tiles track\n",
      "Track generation: 1324..1659 -> 335-tiles track\n",
      "Track generation: 1108..1389 -> 281-tiles track\n",
      "Track generation: 1335..1679 -> 344-tiles track\n",
      "Track generation: 1152..1444 -> 292-tiles track\n",
      "Track generation: 1056..1324 -> 268-tiles track\n",
      "Track generation: 1091..1376 -> 285-tiles track\n",
      "Track generation: 1240..1554 -> 314-tiles track\n",
      "Track generation: 1153..1446 -> 293-tiles track\n",
      "Track generation: 1033..1304 -> 271-tiles track\n",
      "Track generation: 1113..1395 -> 282-tiles track\n",
      "Track generation: 1071..1343 -> 272-tiles track\n",
      "Track generation: 1009..1268 -> 259-tiles track\n",
      "retry to generate track (normal if there are not manyinstances of this message)\n",
      "Track generation: 1088..1373 -> 285-tiles track\n",
      "Track generation: 1236..1549 -> 313-tiles track\n",
      "Track generation: 1284..1619 -> 335-tiles track\n",
      "retry to generate track (normal if there are not manyinstances of this message)\n",
      "Track generation: 1282..1607 -> 325-tiles track\n",
      "Track generation: 1133..1422 -> 289-tiles track\n",
      "retry to generate track (normal if there are not manyinstances of this message)\n",
      "Track generation: 1008..1272 -> 264-tiles track\n",
      "Track generation: 1319..1653 -> 334-tiles track\n",
      "Track generation: 1180..1478 -> 298-tiles track\n",
      "Track generation: 967..1214 -> 247-tiles track\n",
      "retry to generate track (normal if there are not manyinstances of this message)\n",
      "Track generation: 1141..1430 -> 289-tiles track\n",
      "Track generation: 1179..1478 -> 299-tiles track\n",
      "Track generation: 1150..1442 -> 292-tiles track\n",
      "Track generation: 1081..1355 -> 274-tiles track\n",
      "Track generation: 1179..1478 -> 299-tiles track\n",
      "Track generation: 1254..1580 -> 326-tiles track\n",
      "Track generation: 1159..1453 -> 294-tiles track\n",
      "Track generation: 1039..1303 -> 264-tiles track\n",
      "Track generation: 981..1234 -> 253-tiles track\n",
      "Track generation: 1100..1379 -> 279-tiles track\n",
      "Track generation: 1084..1359 -> 275-tiles track\n",
      "Track generation: 1184..1484 -> 300-tiles track\n",
      "Track generation: 1396..1749 -> 353-tiles track\n",
      "Track generation: 1168..1464 -> 296-tiles track\n",
      "Track generation: 1132..1419 -> 287-tiles track\n",
      "Track generation: 1088..1372 -> 284-tiles track\n",
      "Track generation: 1205..1510 -> 305-tiles track\n",
      "Track generation: 1168..1464 -> 296-tiles track\n",
      "Track generation: 1159..1459 -> 300-tiles track\n",
      "Track generation: 1163..1458 -> 295-tiles track\n",
      "Track generation: 1091..1368 -> 277-tiles track\n",
      "Track generation: 1202..1507 -> 305-tiles track\n",
      "Track generation: 1209..1516 -> 307-tiles track\n",
      "Track generation: 1239..1553 -> 314-tiles track\n",
      "Track generation: 1255..1573 -> 318-tiles track\n",
      "Track generation: 1038..1302 -> 264-tiles track\n",
      "Track generation: 1152..1444 -> 292-tiles track\n",
      "Track generation: 1194..1497 -> 303-tiles track\n",
      "Track generation: 1212..1519 -> 307-tiles track\n",
      "Track generation: 1053..1327 -> 274-tiles track\n",
      "Track generation: 1063..1333 -> 270-tiles track\n",
      "Track generation: 1054..1322 -> 268-tiles track\n",
      "Track generation: 1068..1339 -> 271-tiles track\n",
      "Track generation: 1173..1470 -> 297-tiles track\n",
      "Track generation: 1168..1473 -> 305-tiles track\n",
      "Track generation: 1121..1407 -> 286-tiles track\n",
      "Track generation: 1055..1323 -> 268-tiles track\n",
      "Track generation: 1261..1580 -> 319-tiles track\n",
      "Track generation: 1120..1404 -> 284-tiles track\n",
      "Track generation: 988..1239 -> 251-tiles track\n",
      "Track generation: 1180..1479 -> 299-tiles track\n",
      "Track generation: 1073..1345 -> 272-tiles track\n",
      "Track generation: 1076..1349 -> 273-tiles track\n",
      "Track generation: 1144..1435 -> 291-tiles track\n",
      "Track generation: 1329..1665 -> 336-tiles track\n",
      "Track generation: 968..1220 -> 252-tiles track\n",
      "Track generation: 1123..1413 -> 290-tiles track\n",
      "Track generation: 1010..1270 -> 260-tiles track\n",
      "retry to generate track (normal if there are not manyinstances of this message)\n",
      "Track generation: 1078..1352 -> 274-tiles track\n",
      "Wall time: 25min 54s\n"
     ]
    },
    {
     "data": {
      "text/plain": [
       "<stable_baselines3.ppo.ppo.PPO at 0x232399ac5e0>"
      ]
     },
     "execution_count": 11,
     "metadata": {},
     "output_type": "execute_result"
    }
   ],
   "source": [
    "%%time\n",
    "model.learn(total_timesteps=200_000)"
   ]
  },
  {
   "cell_type": "markdown",
   "id": "be3378d9",
   "metadata": {},
   "source": [
    "### Evaluation"
   ]
  },
  {
   "cell_type": "markdown",
   "id": "e8caf9cf",
   "metadata": {},
   "source": [
    "We might be on the wrong track here. The mean score increased but the standard deviation decreased. The car seems to be doing the same wrong movements. Perhaps more training could fix it."
   ]
  },
  {
   "cell_type": "code",
   "execution_count": 12,
   "id": "906eace2",
   "metadata": {},
   "outputs": [
    {
     "name": "stdout",
     "output_type": "stream",
     "text": [
      "Track generation: 1180..1479 -> 299-tiles track\n",
      "Track generation: 1281..1605 -> 324-tiles track\n",
      "Track generation: 1128..1414 -> 286-tiles track\n",
      "Track generation: 1045..1313 -> 268-tiles track\n",
      "retry to generate track (normal if there are not manyinstances of this message)\n",
      "Track generation: 1136..1428 -> 292-tiles track\n",
      "Track generation: 1058..1327 -> 269-tiles track\n",
      "Track generation: 1363..1708 -> 345-tiles track\n",
      "Track generation: 1135..1433 -> 298-tiles track\n",
      "Track generation: 1273..1595 -> 322-tiles track\n",
      "Track generation: 1047..1313 -> 266-tiles track\n",
      "Track generation: 1074..1350 -> 276-tiles track\n",
      "retry to generate track (normal if there are not manyinstances of this message)\n",
      "Track generation: 1127..1413 -> 286-tiles track\n",
      "Track generation: 1130..1415 -> 285-tiles track\n"
     ]
    },
    {
     "data": {
      "text/plain": [
       "(-63.48859500139952, 9.98924971748378)"
      ]
     },
     "execution_count": 12,
     "metadata": {},
     "output_type": "execute_result"
    }
   ],
   "source": [
    "evaluate_policy(model, env, n_eval_episodes=10, render = True)"
   ]
  },
  {
   "cell_type": "code",
   "execution_count": 13,
   "id": "f3c49f35",
   "metadata": {},
   "outputs": [],
   "source": [
    "# path = os.path.join('Training', 'Saved Models', 'ppo_car_300k')\n",
    "# model.save(path)"
   ]
  },
  {
   "cell_type": "markdown",
   "id": "9f8e7b41",
   "metadata": {},
   "source": [
    "## Model 3: 500k"
   ]
  },
  {
   "cell_type": "code",
   "execution_count": 14,
   "id": "c41afc52",
   "metadata": {
    "scrolled": true
   },
   "outputs": [
    {
     "name": "stdout",
     "output_type": "stream",
     "text": [
      "Track generation: 1224..1534 -> 310-tiles track\n",
      "Track generation: 1057..1325 -> 268-tiles track\n",
      "Track generation: 999..1253 -> 254-tiles track\n",
      "Track generation: 1007..1269 -> 262-tiles track\n",
      "Track generation: 1197..1510 -> 313-tiles track\n",
      "Track generation: 1265..1585 -> 320-tiles track\n",
      "Track generation: 971..1218 -> 247-tiles track\n",
      "Track generation: 1183..1483 -> 300-tiles track\n",
      "Track generation: 1093..1379 -> 286-tiles track\n",
      "Track generation: 1066..1337 -> 271-tiles track\n",
      "Track generation: 1123..1446 -> 323-tiles track\n",
      "retry to generate track (normal if there are not manyinstances of this message)\n",
      "Track generation: 1079..1353 -> 274-tiles track\n",
      "Track generation: 1169..1465 -> 296-tiles track\n",
      "Track generation: 1111..1399 -> 288-tiles track\n",
      "Track generation: 1259..1578 -> 319-tiles track\n",
      "Track generation: 1148..1439 -> 291-tiles track\n",
      "Track generation: 1188..1489 -> 301-tiles track\n",
      "Track generation: 1122..1407 -> 285-tiles track\n",
      "Track generation: 1068..1339 -> 271-tiles track\n",
      "Track generation: 1269..1590 -> 321-tiles track\n",
      "Track generation: 1212..1519 -> 307-tiles track\n",
      "Track generation: 1160..1454 -> 294-tiles track\n",
      "Track generation: 1196..1499 -> 303-tiles track\n",
      "Track generation: 1247..1563 -> 316-tiles track\n",
      "Track generation: 1265..1585 -> 320-tiles track\n",
      "Track generation: 1146..1441 -> 295-tiles track\n",
      "Track generation: 1238..1552 -> 314-tiles track\n",
      "Track generation: 1252..1569 -> 317-tiles track\n",
      "Track generation: 1167..1463 -> 296-tiles track\n",
      "Track generation: 1019..1278 -> 259-tiles track\n",
      "Track generation: 1251..1568 -> 317-tiles track\n",
      "Track generation: 1220..1529 -> 309-tiles track\n",
      "Track generation: 1312..1644 -> 332-tiles track\n",
      "Track generation: 1209..1515 -> 306-tiles track\n",
      "Track generation: 1144..1434 -> 290-tiles track\n",
      "Track generation: 974..1224 -> 250-tiles track\n",
      "retry to generate track (normal if there are not manyinstances of this message)\n",
      "Track generation: 1099..1378 -> 279-tiles track\n",
      "Track generation: 1139..1428 -> 289-tiles track\n",
      "Track generation: 1220..1529 -> 309-tiles track\n",
      "Track generation: 1108..1397 -> 289-tiles track\n",
      "Track generation: 842..1061 -> 219-tiles track\n",
      "Track generation: 1083..1366 -> 283-tiles track\n",
      "Track generation: 1213..1520 -> 307-tiles track\n",
      "Track generation: 1123..1408 -> 285-tiles track\n",
      "Track generation: 1197..1500 -> 303-tiles track\n",
      "Track generation: 1297..1624 -> 327-tiles track\n",
      "Track generation: 1351..1693 -> 342-tiles track\n",
      "Track generation: 1111..1393 -> 282-tiles track\n",
      "Track generation: 1055..1323 -> 268-tiles track\n",
      "Track generation: 1131..1420 -> 289-tiles track\n",
      "Track generation: 1056..1324 -> 268-tiles track\n",
      "Track generation: 1203..1508 -> 305-tiles track\n",
      "Track generation: 1095..1373 -> 278-tiles track\n",
      "Track generation: 1041..1306 -> 265-tiles track\n",
      "Track generation: 1082..1363 -> 281-tiles track\n",
      "Track generation: 1059..1328 -> 269-tiles track\n",
      "Track generation: 1004..1265 -> 261-tiles track\n",
      "Track generation: 1028..1289 -> 261-tiles track\n",
      "Track generation: 1065..1341 -> 276-tiles track\n",
      "Track generation: 987..1245 -> 258-tiles track\n",
      "Track generation: 1156..1449 -> 293-tiles track\n",
      "Track generation: 1139..1428 -> 289-tiles track\n",
      "Track generation: 1228..1539 -> 311-tiles track\n",
      "Track generation: 1013..1276 -> 263-tiles track\n",
      "Track generation: 1079..1353 -> 274-tiles track\n",
      "Track generation: 1091..1368 -> 277-tiles track\n",
      "Track generation: 1172..1473 -> 301-tiles track\n",
      "Track generation: 914..1147 -> 233-tiles track\n",
      "Track generation: 1103..1384 -> 281-tiles track\n",
      "retry to generate track (normal if there are not manyinstances of this message)\n",
      "Track generation: 1148..1445 -> 297-tiles track\n",
      "Track generation: 1180..1479 -> 299-tiles track\n",
      "Track generation: 1163..1458 -> 295-tiles track\n",
      "Track generation: 1137..1425 -> 288-tiles track\n",
      "Track generation: 1120..1406 -> 286-tiles track\n",
      "retry to generate track (normal if there are not manyinstances of this message)\n",
      "Track generation: 1251..1568 -> 317-tiles track\n",
      "Track generation: 1291..1618 -> 327-tiles track\n",
      "Track generation: 1105..1386 -> 281-tiles track\n",
      "Track generation: 1115..1398 -> 283-tiles track\n",
      "Track generation: 1050..1319 -> 269-tiles track\n",
      "retry to generate track (normal if there are not manyinstances of this message)\n",
      "Track generation: 1199..1503 -> 304-tiles track\n",
      "Track generation: 1292..1619 -> 327-tiles track\n",
      "Track generation: 1235..1548 -> 313-tiles track\n",
      "Track generation: 1072..1343 -> 271-tiles track\n",
      "Track generation: 1188..1489 -> 301-tiles track\n",
      "Track generation: 1148..1439 -> 291-tiles track\n",
      "Track generation: 1171..1472 -> 301-tiles track\n",
      "Track generation: 1104..1384 -> 280-tiles track\n",
      "Track generation: 1272..1605 -> 333-tiles track\n",
      "Track generation: 1028..1278 -> 250-tiles track\n",
      "retry to generate track (normal if there are not manyinstances of this message)\n",
      "Track generation: 1123..1408 -> 285-tiles track\n",
      "Track generation: 1146..1441 -> 295-tiles track\n",
      "Track generation: 1021..1280 -> 259-tiles track\n",
      "Track generation: 1251..1568 -> 317-tiles track\n",
      "Track generation: 1029..1290 -> 261-tiles track\n",
      "Track generation: 1141..1435 -> 294-tiles track\n",
      "Track generation: 1158..1451 -> 293-tiles track\n",
      "Track generation: 1108..1390 -> 282-tiles track\n",
      "Track generation: 979..1232 -> 253-tiles track\n",
      "Track generation: 1122..1408 -> 286-tiles track\n",
      "retry to generate track (normal if there are not manyinstances of this message)\n",
      "Track generation: 995..1254 -> 259-tiles track\n",
      "Track generation: 1144..1435 -> 291-tiles track\n",
      "Track generation: 1165..1468 -> 303-tiles track\n",
      "Track generation: 1172..1469 -> 297-tiles track\n",
      "Track generation: 1093..1376 -> 283-tiles track\n",
      "retry to generate track (normal if there are not manyinstances of this message)\n",
      "Track generation: 1192..1501 -> 309-tiles track\n",
      "Track generation: 1229..1546 -> 317-tiles track\n",
      "Track generation: 1118..1409 -> 291-tiles track\n",
      "Track generation: 1109..1390 -> 281-tiles track\n",
      "Track generation: 1135..1429 -> 294-tiles track\n",
      "Track generation: 1209..1516 -> 307-tiles track\n",
      "Track generation: 953..1204 -> 251-tiles track\n",
      "Track generation: 1040..1304 -> 264-tiles track\n",
      "Track generation: 1132..1419 -> 287-tiles track\n",
      "Track generation: 1173..1470 -> 297-tiles track\n",
      "Track generation: 1185..1485 -> 300-tiles track\n",
      "Track generation: 1163..1458 -> 295-tiles track\n",
      "Track generation: 935..1180 -> 245-tiles track\n",
      "Track generation: 1117..1401 -> 284-tiles track\n",
      "Track generation: 1140..1429 -> 289-tiles track\n",
      "Track generation: 1119..1403 -> 284-tiles track\n",
      "Track generation: 1208..1514 -> 306-tiles track\n",
      "Track generation: 1180..1479 -> 299-tiles track\n",
      "Track generation: 1128..1414 -> 286-tiles track\n",
      "Track generation: 1177..1476 -> 299-tiles track\n",
      "Track generation: 1205..1510 -> 305-tiles track\n",
      "Track generation: 1068..1339 -> 271-tiles track\n",
      "Track generation: 1151..1443 -> 292-tiles track\n",
      "Track generation: 1104..1391 -> 287-tiles track\n",
      "Track generation: 1103..1384 -> 281-tiles track\n",
      "retry to generate track (normal if there are not manyinstances of this message)\n",
      "Track generation: 1082..1356 -> 274-tiles track\n",
      "Track generation: 1174..1479 -> 305-tiles track\n",
      "Track generation: 1216..1524 -> 308-tiles track\n",
      "Track generation: 1197..1500 -> 303-tiles track\n",
      "Track generation: 1164..1459 -> 295-tiles track\n",
      "Track generation: 1189..1490 -> 301-tiles track\n",
      "Track generation: 1040..1304 -> 264-tiles track\n",
      "Track generation: 1161..1465 -> 304-tiles track\n",
      "Track generation: 1081..1359 -> 278-tiles track\n",
      "retry to generate track (normal if there are not manyinstances of this message)\n",
      "Track generation: 968..1221 -> 253-tiles track\n",
      "Track generation: 1064..1334 -> 270-tiles track\n",
      "Track generation: 1171..1468 -> 297-tiles track\n",
      "Track generation: 1191..1493 -> 302-tiles track\n",
      "Track generation: 1203..1508 -> 305-tiles track\n",
      "Track generation: 1227..1538 -> 311-tiles track\n",
      "Track generation: 1135..1423 -> 288-tiles track\n",
      "Track generation: 1168..1464 -> 296-tiles track\n",
      "Track generation: 1011..1273 -> 262-tiles track\n",
      "retry to generate track (normal if there are not manyinstances of this message)\n",
      "Track generation: 1063..1338 -> 275-tiles track\n",
      "Track generation: 1080..1358 -> 278-tiles track\n",
      "retry to generate track (normal if there are not manyinstances of this message)\n",
      "Track generation: 1084..1359 -> 275-tiles track\n",
      "Track generation: 1160..1454 -> 294-tiles track\n"
     ]
    },
    {
     "name": "stdout",
     "output_type": "stream",
     "text": [
      "Track generation: 1025..1292 -> 267-tiles track\n",
      "Track generation: 1157..1450 -> 293-tiles track\n",
      "Track generation: 1213..1520 -> 307-tiles track\n",
      "Track generation: 1107..1388 -> 281-tiles track\n",
      "Track generation: 1190..1501 -> 311-tiles track\n",
      "Track generation: 1315..1648 -> 333-tiles track\n",
      "Track generation: 1199..1503 -> 304-tiles track\n",
      "Track generation: 1195..1498 -> 303-tiles track\n",
      "Track generation: 1228..1540 -> 312-tiles track\n",
      "Track generation: 937..1178 -> 241-tiles track\n",
      "retry to generate track (normal if there are not manyinstances of this message)\n",
      "Track generation: 1095..1373 -> 278-tiles track\n",
      "Track generation: 1063..1337 -> 274-tiles track\n",
      "retry to generate track (normal if there are not manyinstances of this message)\n",
      "Track generation: 1247..1563 -> 316-tiles track\n",
      "Track generation: 1162..1457 -> 295-tiles track\n",
      "Track generation: 1077..1350 -> 273-tiles track\n",
      "Track generation: 1215..1523 -> 308-tiles track\n",
      "Track generation: 940..1186 -> 246-tiles track\n",
      "Track generation: 1103..1383 -> 280-tiles track\n",
      "Track generation: 949..1195 -> 246-tiles track\n",
      "Track generation: 1021..1284 -> 263-tiles track\n",
      "Track generation: 1131..1418 -> 287-tiles track\n",
      "Track generation: 1324..1659 -> 335-tiles track\n",
      "Track generation: 1228..1539 -> 311-tiles track\n",
      "Track generation: 1182..1489 -> 307-tiles track\n",
      "Track generation: 1220..1529 -> 309-tiles track\n",
      "Track generation: 1142..1431 -> 289-tiles track\n",
      "Track generation: 1087..1363 -> 276-tiles track\n",
      "Track generation: 1272..1594 -> 322-tiles track\n",
      "Track generation: 1193..1498 -> 305-tiles track\n",
      "retry to generate track (normal if there are not manyinstances of this message)\n",
      "Track generation: 1035..1298 -> 263-tiles track\n",
      "Track generation: 1038..1305 -> 267-tiles track\n",
      "retry to generate track (normal if there are not manyinstances of this message)\n",
      "Track generation: 1207..1513 -> 306-tiles track\n",
      "Track generation: 1263..1584 -> 321-tiles track\n",
      "Track generation: 1303..1633 -> 330-tiles track\n",
      "Track generation: 1092..1375 -> 283-tiles track\n",
      "Track generation: 1007..1266 -> 259-tiles track\n",
      "retry to generate track (normal if there are not manyinstances of this message)\n",
      "Track generation: 1195..1498 -> 303-tiles track\n",
      "Track generation: 1104..1387 -> 283-tiles track\n",
      "retry to generate track (normal if there are not manyinstances of this message)\n",
      "Track generation: 1035..1306 -> 271-tiles track\n",
      "Track generation: 1147..1446 -> 299-tiles track\n",
      "Track generation: 1136..1424 -> 288-tiles track\n",
      "Track generation: 1280..1605 -> 325-tiles track\n",
      "Track generation: 1188..1496 -> 308-tiles track\n",
      "Track generation: 1069..1340 -> 271-tiles track\n",
      "Track generation: 1097..1377 -> 280-tiles track\n",
      "retry to generate track (normal if there are not manyinstances of this message)\n",
      "Track generation: 1235..1548 -> 313-tiles track\n",
      "Track generation: 1112..1401 -> 289-tiles track\n",
      "Track generation: 1247..1563 -> 316-tiles track\n",
      "Track generation: 1244..1559 -> 315-tiles track\n",
      "Track generation: 1191..1498 -> 307-tiles track\n",
      "Track generation: 1075..1350 -> 275-tiles track\n",
      "retry to generate track (normal if there are not manyinstances of this message)\n",
      "Track generation: 1204..1509 -> 305-tiles track\n",
      "Track generation: 1101..1380 -> 279-tiles track\n",
      "Track generation: 1139..1428 -> 289-tiles track\n",
      "Track generation: 1278..1602 -> 324-tiles track\n",
      "Track generation: 1116..1399 -> 283-tiles track\n",
      "Track generation: 1073..1345 -> 272-tiles track\n",
      "Track generation: 1159..1453 -> 294-tiles track\n",
      "Track generation: 1187..1488 -> 301-tiles track\n",
      "Track generation: 948..1195 -> 247-tiles track\n",
      "Track generation: 1059..1331 -> 272-tiles track\n",
      "retry to generate track (normal if there are not manyinstances of this message)\n",
      "Track generation: 1218..1526 -> 308-tiles track\n",
      "Track generation: 1352..1694 -> 342-tiles track\n",
      "Track generation: 1038..1307 -> 269-tiles track\n",
      "Track generation: 1164..1459 -> 295-tiles track\n",
      "Track generation: 1059..1328 -> 269-tiles track\n",
      "Track generation: 1245..1560 -> 315-tiles track\n",
      "Track generation: 1312..1644 -> 332-tiles track\n",
      "Track generation: 996..1249 -> 253-tiles track\n",
      "Track generation: 1223..1531 -> 308-tiles track\n",
      "Track generation: 1217..1532 -> 315-tiles track\n",
      "Wall time: 25min 7s\n"
     ]
    },
    {
     "data": {
      "text/plain": [
       "<stable_baselines3.ppo.ppo.PPO at 0x232399ac5e0>"
      ]
     },
     "execution_count": 14,
     "metadata": {},
     "output_type": "execute_result"
    }
   ],
   "source": [
    "%%time\n",
    "model.learn(total_timesteps=200_000)"
   ]
  },
  {
   "cell_type": "markdown",
   "id": "3408be19",
   "metadata": {},
   "source": [
    "### Evaluation"
   ]
  },
  {
   "cell_type": "markdown",
   "id": "1c4b19b2",
   "metadata": {},
   "source": [
    "By far the worst performing model. It seems to have solidified its bad behavior since the standard deviation has decresed again. More time will be needed to tune and as well as come up with alternatives to training, such as creating custom classes."
   ]
  },
  {
   "cell_type": "code",
   "execution_count": 15,
   "id": "d45d9447",
   "metadata": {},
   "outputs": [
    {
     "name": "stdout",
     "output_type": "stream",
     "text": [
      "Track generation: 1075..1349 -> 274-tiles track\n",
      "retry to generate track (normal if there are not manyinstances of this message)\n",
      "Track generation: 1072..1351 -> 279-tiles track\n",
      "Track generation: 1219..1528 -> 309-tiles track\n",
      "Track generation: 1188..1489 -> 301-tiles track\n",
      "Track generation: 1099..1378 -> 279-tiles track\n",
      "Track generation: 1311..1643 -> 332-tiles track\n",
      "Track generation: 1127..1413 -> 286-tiles track\n",
      "Track generation: 1149..1441 -> 292-tiles track\n",
      "Track generation: 1204..1509 -> 305-tiles track\n",
      "Track generation: 1098..1382 -> 284-tiles track\n",
      "Track generation: 1116..1399 -> 283-tiles track\n",
      "Track generation: 1120..1404 -> 284-tiles track\n"
     ]
    },
    {
     "data": {
      "text/plain": [
       "(-77.73669624701142, 6.151285143364425)"
      ]
     },
     "execution_count": 15,
     "metadata": {},
     "output_type": "execute_result"
    }
   ],
   "source": [
    "evaluate_policy(model, env, n_eval_episodes=10, render = True)"
   ]
  },
  {
   "cell_type": "code",
   "execution_count": 16,
   "id": "e701555e",
   "metadata": {},
   "outputs": [],
   "source": [
    "env.close()"
   ]
  },
  {
   "cell_type": "code",
   "execution_count": 17,
   "id": "898e4395",
   "metadata": {},
   "outputs": [],
   "source": [
    "# path = os.path.join('Training', 'Saved Models', 'ppo_car_500k')\n",
    "# model.save(path)"
   ]
  }
 ],
 "metadata": {
  "kernelspec": {
   "display_name": "Python 3",
   "language": "python",
   "name": "python3"
  },
  "language_info": {
   "codemirror_mode": {
    "name": "ipython",
    "version": 3
   },
   "file_extension": ".py",
   "mimetype": "text/x-python",
   "name": "python",
   "nbconvert_exporter": "python",
   "pygments_lexer": "ipython3",
   "version": "3.8.8"
  }
 },
 "nbformat": 4,
 "nbformat_minor": 5
}
